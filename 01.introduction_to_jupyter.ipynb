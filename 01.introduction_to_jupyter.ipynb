{
 "cells": [
  {
   "cell_type": "markdown",
   "metadata": {},
   "source": [
    "### Jupyter installation instructions"
   ]
  },
  {
   "cell_type": "markdown",
   "metadata": {},
   "source": [
    "In this course, we will use Python in Jupyter notebooks (a shorthand for **Ju**lia, **Pyt**hon and **R**). To get and use Jupyter notebooks, we recommend Anaconda distribution, which is available for the most common operating systems. To install Anaconda, check out [this](https://docs.anaconda.com/anaconda/install/) link.\n",
    "\n",
    "After installing, you can either open the Jupyter via the app, or execute the `jupyter notebook` command in the terminal to start a Jupyter server.\n",
    "\n",
    "As an alternative to Jupyter, you can use Python IDE [PyCharm](https://www.jetbrains.com/pycharm/promo/?source=google&medium=cpc&campaign=14123077402&term=pycharm&gclid=EAIaIQobChMIo4behf6h-wIV1O13Ch3MeQ7tEAAYASAAEgI2OvD_BwE) or [Visual Studio Code](https://code.visualstudio.com/download)."
   ]
  },
  {
   "cell_type": "markdown",
   "metadata": {},
   "source": [
    "**Side note:** *There are many [other](https://github.com/jupyter/jupyter/wiki/Jupyter-kernels) available kernels.*"
   ]
  },
  {
   "cell_type": "markdown",
   "metadata": {},
   "source": [
    "#### Why Jupyter Notebooks?...\n",
    "\n",
    "Jupyter is a user-friendy, browser-based interactive environment. Notebooks are usefull since they allow not only code execution but also they allow adding text boxes, formulas in $\\LaTeX$, pictures, clickable links and many more. Notebooks can be saved to executable formats, such as *.py* and *.ipynb*, or to non-executable ones, such as *.pdf, .html, .tex*, etc."
   ]
  },
  {
   "cell_type": "markdown",
   "metadata": {},
   "source": [
    "### The Jupyter notebook interface"
   ]
  },
  {
   "cell_type": "markdown",
   "metadata": {},
   "source": [
    "Name of the current notebook (`01.introduction_to_jupyter`) is displayed in the top left corner of the page. You can edit it by either clicking on in the Jupyter files page by selecting the file and selecting the \"Rename\" option. Right next to the file name you may see the time of the last checkpoins (the last save) -- make sure that it's recent, so all of your changes are in place! You can save the notebook by either pressing `ctrl + s` (Windows), `command + s` (OS) or by clicking on the disk icon right below the \"File\" menu. Often the notebook is saved automatically with some periodicity.\n",
    "\n",
    "The \"File\" menu contains several options, including download option for the notebook, reversion to the previous checkpoint and a few other options. The \"Edit\" menu contains a few usefull options including \"Undo delete cells\" and \"Find and Replace\" option that allows finding a pattern in a cell and replacing it with a custom element. Other useful options include merging, moving (can be done with the arrow up and down signs) and splitting cells. New cells can be added by pressing the plus sign **+** in toolbar, between the File and Edit menues. To delete a cell, press the scissors sign. Finally, the \"Kernel\" menu allows controling the Python kernel by interrupting the process(es) if needed, restarting or shutting down the kernel, and even changing the kernel to another one (if available).\n",
    "\n",
    "Jupyter notebook has a wide range of shortcuts and snippets that allow writing and manipulating the code much faster than without them. To learn more about the shortcuts, please see [this](https://towardsdatascience.com/jypyter-notebook-shortcuts-bf0101a98330) link.\n",
    "\n",
    "The major types of cells in Jupyter notebooks are the code cells (for writing code in Python) and markdown cells (for writing text). When a new cell is created, it is a code cell (indicated as \"Code\" in the toolbar). To convert it into the markdown cell, select \"Markdown\" from the expandable list of options."
   ]
  },
  {
   "cell_type": "markdown",
   "metadata": {},
   "source": [
    "### Markdown Cells"
   ]
  },
  {
   "cell_type": "markdown",
   "metadata": {},
   "source": [
    "Markdown cells allow writing text and formating it in many differnet ways."
   ]
  },
  {
   "cell_type": "code",
   "execution_count": 1,
   "metadata": {},
   "outputs": [
    {
     "data": {
      "text/plain": [
       "10"
      ]
     },
     "execution_count": 1,
     "metadata": {},
     "output_type": "execute_result"
    }
   ],
   "source": [
    "# This is the cell for writing code\n",
    "5 + 5"
   ]
  },
  {
   "cell_type": "markdown",
   "metadata": {},
   "source": [
    "To run a code cell, or render a markdown cell, either press a `shift + enter` combination, or click the \"Run\" button in the toolbar. To introduce changes into the renderred cell, double click on the respective cell."
   ]
  },
  {
   "cell_type": "markdown",
   "metadata": {},
   "source": [
    "Headings are indicated with hash symbols, for example:\n",
    "# Large heading\n",
    "## Smaller heading\n",
    "\n",
    "\n",
    "When writing the text, you may want to highlight it in **bold** or *italics* format, you may also want to include some commands in Python, for example `5+5` or `import numpy as np`, or even formulas such as $c^2 = \\sqrt{a^2 + b^2}$. Longer expansions can be writen in the new line with the following syntax: $$c^2 = \\sqrt{a^2 + b^2}.$$\n",
    "\n",
    "\n",
    "Other than that, for explaining the steps of your algorithm, you may want to use enumerated lists, such as\n",
    "1. Step 1 is this\n",
    "2. Step 2 is that \\\n",
    "    a) the first substep \\\n",
    "    b) the second substep.\n",
    "    \n",
    "Alternatively, you may use bullet points:\n",
    "* Step 1 is this\n",
    "* Step 2 is that"
   ]
  },
  {
   "cell_type": "markdown",
   "metadata": {},
   "source": [
    "Jupyter notebook allows inserting images as well:\n",
    "\n",
    "<img src=\"https://www.epfl.ch/about/overview/wp-content/uploads/2020/07/logo-epfl-1024x576.png\" />"
   ]
  },
  {
   "cell_type": "markdown",
   "metadata": {},
   "source": [
    "To know more about the markdown syntax and tricks, check out [this](https://github.com/adam-p/markdown-here/wiki/Markdown-Cheatsheet) link."
   ]
  },
  {
   "cell_type": "markdown",
   "metadata": {},
   "source": [
    "The cell can be in one of the two interaction modes:\n",
    "\n",
    "- **Command Mode** (cell highlighted blue) - allows selection of multiple cells by pressing `shift` and hitting up/down arrows,\n",
    "- **Edit Mode** (cell highlighted green) - editable cell"
   ]
  },
  {
   "cell_type": "markdown",
   "metadata": {},
   "source": [
    "### Magic Commands"
   ]
  },
  {
   "cell_type": "markdown",
   "metadata": {},
   "source": [
    "Magic commands are usefull since they provide a wide range of functionality that might be out of the Python scope. To check out the full list of magic functions, visit [this](http://ipython.readthedocs.io/en/stable/interactive/magics.html) link, or use the following magic command:"
   ]
  },
  {
   "cell_type": "code",
   "execution_count": 2,
   "metadata": {
    "scrolled": true
   },
   "outputs": [
    {
     "data": {
      "application/json": {
       "cell": {
        "!": "OSMagics",
        "HTML": "Other",
        "SVG": "Other",
        "bash": "Other",
        "capture": "ExecutionMagics",
        "debug": "ExecutionMagics",
        "file": "Other",
        "html": "DisplayMagics",
        "javascript": "DisplayMagics",
        "js": "DisplayMagics",
        "latex": "DisplayMagics",
        "markdown": "DisplayMagics",
        "perl": "Other",
        "prun": "ExecutionMagics",
        "pypy": "Other",
        "python": "Other",
        "python2": "Other",
        "python3": "Other",
        "ruby": "Other",
        "script": "ScriptMagics",
        "sh": "Other",
        "svg": "DisplayMagics",
        "sx": "OSMagics",
        "system": "OSMagics",
        "time": "ExecutionMagics",
        "timeit": "ExecutionMagics",
        "writefile": "OSMagics"
       },
       "line": {
        "alias": "OSMagics",
        "alias_magic": "BasicMagics",
        "autoawait": "AsyncMagics",
        "autocall": "AutoMagics",
        "automagic": "AutoMagics",
        "autosave": "KernelMagics",
        "bookmark": "OSMagics",
        "cat": "Other",
        "cd": "OSMagics",
        "clear": "KernelMagics",
        "colors": "BasicMagics",
        "conda": "PackagingMagics",
        "config": "ConfigMagics",
        "connect_info": "KernelMagics",
        "cp": "Other",
        "debug": "ExecutionMagics",
        "dhist": "OSMagics",
        "dirs": "OSMagics",
        "doctest_mode": "BasicMagics",
        "ed": "Other",
        "edit": "KernelMagics",
        "env": "OSMagics",
        "gui": "BasicMagics",
        "hist": "Other",
        "history": "HistoryMagics",
        "killbgscripts": "ScriptMagics",
        "ldir": "Other",
        "less": "KernelMagics",
        "lf": "Other",
        "lk": "Other",
        "ll": "Other",
        "load": "CodeMagics",
        "load_ext": "ExtensionMagics",
        "loadpy": "CodeMagics",
        "logoff": "LoggingMagics",
        "logon": "LoggingMagics",
        "logstart": "LoggingMagics",
        "logstate": "LoggingMagics",
        "logstop": "LoggingMagics",
        "ls": "Other",
        "lsmagic": "BasicMagics",
        "lx": "Other",
        "macro": "ExecutionMagics",
        "magic": "BasicMagics",
        "man": "KernelMagics",
        "matplotlib": "PylabMagics",
        "mkdir": "Other",
        "more": "KernelMagics",
        "mv": "Other",
        "notebook": "BasicMagics",
        "page": "BasicMagics",
        "pastebin": "CodeMagics",
        "pdb": "ExecutionMagics",
        "pdef": "NamespaceMagics",
        "pdoc": "NamespaceMagics",
        "pfile": "NamespaceMagics",
        "pinfo": "NamespaceMagics",
        "pinfo2": "NamespaceMagics",
        "pip": "PackagingMagics",
        "popd": "OSMagics",
        "pprint": "BasicMagics",
        "precision": "BasicMagics",
        "prun": "ExecutionMagics",
        "psearch": "NamespaceMagics",
        "psource": "NamespaceMagics",
        "pushd": "OSMagics",
        "pwd": "OSMagics",
        "pycat": "OSMagics",
        "pylab": "PylabMagics",
        "qtconsole": "KernelMagics",
        "quickref": "BasicMagics",
        "recall": "HistoryMagics",
        "rehashx": "OSMagics",
        "reload_ext": "ExtensionMagics",
        "rep": "Other",
        "rerun": "HistoryMagics",
        "reset": "NamespaceMagics",
        "reset_selective": "NamespaceMagics",
        "rm": "Other",
        "rmdir": "Other",
        "run": "ExecutionMagics",
        "save": "CodeMagics",
        "sc": "OSMagics",
        "set_env": "OSMagics",
        "store": "StoreMagics",
        "sx": "OSMagics",
        "system": "OSMagics",
        "tb": "ExecutionMagics",
        "time": "ExecutionMagics",
        "timeit": "ExecutionMagics",
        "unalias": "OSMagics",
        "unload_ext": "ExtensionMagics",
        "who": "NamespaceMagics",
        "who_ls": "NamespaceMagics",
        "whos": "NamespaceMagics",
        "xdel": "NamespaceMagics",
        "xmode": "BasicMagics"
       }
      },
      "text/plain": [
       "Available line magics:\n",
       "%alias  %alias_magic  %autoawait  %autocall  %automagic  %autosave  %bookmark  %cat  %cd  %clear  %colors  %conda  %config  %connect_info  %cp  %debug  %dhist  %dirs  %doctest_mode  %ed  %edit  %env  %gui  %hist  %history  %killbgscripts  %ldir  %less  %lf  %lk  %ll  %load  %load_ext  %loadpy  %logoff  %logon  %logstart  %logstate  %logstop  %ls  %lsmagic  %lx  %macro  %magic  %man  %matplotlib  %mkdir  %more  %mv  %notebook  %page  %pastebin  %pdb  %pdef  %pdoc  %pfile  %pinfo  %pinfo2  %pip  %popd  %pprint  %precision  %prun  %psearch  %psource  %pushd  %pwd  %pycat  %pylab  %qtconsole  %quickref  %recall  %rehashx  %reload_ext  %rep  %rerun  %reset  %reset_selective  %rm  %rmdir  %run  %save  %sc  %set_env  %store  %sx  %system  %tb  %time  %timeit  %unalias  %unload_ext  %who  %who_ls  %whos  %xdel  %xmode\n",
       "\n",
       "Available cell magics:\n",
       "%%!  %%HTML  %%SVG  %%bash  %%capture  %%debug  %%file  %%html  %%javascript  %%js  %%latex  %%markdown  %%perl  %%prun  %%pypy  %%python  %%python2  %%python3  %%ruby  %%script  %%sh  %%svg  %%sx  %%system  %%time  %%timeit  %%writefile\n",
       "\n",
       "Automagic is ON, % prefix IS NOT needed for line magics."
      ]
     },
     "execution_count": 2,
     "metadata": {},
     "output_type": "execute_result"
    }
   ],
   "source": [
    "%lsmagic"
   ]
  },
  {
   "cell_type": "markdown",
   "metadata": {},
   "source": [
    "With some magic fucntions one can convert the cell functionality. For example, bash magic function: "
   ]
  },
  {
   "cell_type": "code",
   "execution_count": 3,
   "metadata": {},
   "outputs": [
    {
     "name": "stdout",
     "output_type": "stream",
     "text": [
      "01.introduction_to_jupyter.ipynb\n",
      "02.quick_python_overview.ipynb\n",
      "03.useful_python_packages_and_examples.ipynb\n",
      "04.python_hands_on_genetics.ipynb\n",
      "iris_dataset.csv\n"
     ]
    }
   ],
   "source": [
    "%%bash\n",
    "ls"
   ]
  },
  {
   "cell_type": "markdown",
   "metadata": {},
   "source": [
    "Congrats! Now you are familiar with the basics of Jupyter, you may continue with the exercises!"
   ]
  }
 ],
 "metadata": {
  "kernelspec": {
   "display_name": "Python-3.9.5",
   "language": "python",
   "name": "python3"
  },
  "language_info": {
   "codemirror_mode": {
    "name": "ipython",
    "version": 3
   },
   "file_extension": ".py",
   "mimetype": "text/x-python",
   "name": "python",
   "nbconvert_exporter": "python",
   "pygments_lexer": "ipython3",
   "version": "3.9.5"
  }
 },
 "nbformat": 4,
 "nbformat_minor": 2
}
